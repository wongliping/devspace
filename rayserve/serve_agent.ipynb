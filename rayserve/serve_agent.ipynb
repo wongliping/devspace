{
 "cells": [
  {
   "cell_type": "code",
   "execution_count": 3,
   "metadata": {},
   "outputs": [],
   "source": [
    "from langchain_openai import ChatOpenAI\n",
    "from langchain_core.messages import HumanMessage, SystemMessage\n",
    "from langgraph.graph import MessagesState, StateGraph, START, END\n",
    "from langgraph.prebuilt import ToolNode, tools_condition\n",
    "\n",
    "from dotenv import load_dotenv\n",
    "\n",
    "load_dotenv()\n",
    "\n",
    "\n",
    "def search_tool(messages: list):\n",
    "    \"Search for information about Ray Serve.\"\n",
    "    return f\"\"\"\n",
    "        Search result for {messages}: Ray Serve is a scalable and versatile library for serving machine learning models.\n",
    "    \"\"\"\n",
    "\n",
    "\n",
    "class Agent:\n",
    "    def __init__(self):\n",
    "        self.llm = ChatOpenAI(model=\"gpt-3.5-turbo-0125\")\n",
    "        self.llm_with_tools = self.llm.bind_tools([search_tool])\n",
    "        self.sys_msg = SystemMessage(content=\"You are a helpful assistant.\")\n",
    "        self.graph = self.build_graph()\n",
    "    \n",
    "    def assistant(self, state: MessagesState):\n",
    "        return {\"messages\": [self.llm_with_tools.invoke([self.sys_msg] + state[\"messages\"])]}\n",
    "\n",
    "    def build_graph(self):\n",
    "        # Build graph\n",
    "        builder = StateGraph(MessagesState)\n",
    "        builder.add_node(\"assistant\", self.assistant)\n",
    "        builder.add_node(\"tools\", ToolNode([search_tool]))\n",
    "        builder.add_edge(START, \"assistant\")\n",
    "        builder.add_conditional_edges(\n",
    "            \"assistant\",\n",
    "            # If the latest message (result) from assistant is a tool call -> tools_condition routes to tools\n",
    "            # If the latest message (result) from assistant is a not a tool call -> tools_condition routes to END\n",
    "            tools_condition,\n",
    "        )\n",
    "        builder.add_edge(\"tools\", \"assistant\")\n",
    "        builder.add_edge(\"assistant\", END)\n",
    "        return builder.compile()\n",
    "    \n",
    "    def handle_query(self, input: str):\n",
    "        messages = [HumanMessage(content=input)]\n",
    "        messages = self.graph.invoke({\"messages\": messages})\n",
    "        for m in messages['messages']:\n",
    "            m.pretty_print()\n",
    "        return messages['messages'][-1].content\n"
   ]
  },
  {
   "cell_type": "code",
   "execution_count": null,
   "metadata": {},
   "outputs": [],
   "source": [
    "Agent().handle_query(\"What is a cat?\")"
   ]
  },
  {
   "cell_type": "code",
   "execution_count": 3,
   "metadata": {},
   "outputs": [],
   "source": [
    "from langchain_openai import ChatOpenAI\n",
    "from langchain_core.messages import HumanMessage, SystemMessage\n",
    "from langgraph.graph import MessagesState, StateGraph, START, END\n",
    "from langgraph.prebuilt import ToolNode, tools_condition\n",
    "\n",
    "from dotenv import load_dotenv\n",
    "\n",
    "load_dotenv()\n",
    "\n",
    "\n",
    "def multiply(a: int, b: int) -> int:\n",
    "    \"\"\"Multiply a and b.\n",
    "\n",
    "    Args:\n",
    "        a: first int\n",
    "        b: second int\n",
    "    \"\"\"\n",
    "    return a * b\n",
    "\n",
    "def add(a: int, b: int) -> int:\n",
    "    \"\"\"Adds a and b.\n",
    "\n",
    "    Args:\n",
    "        a: first int\n",
    "        b: second int\n",
    "    \"\"\"\n",
    "    return a + b\n",
    "\n",
    "def divide(a: int, b: int) -> float:\n",
    "    \"\"\"Divide a and b.\n",
    "\n",
    "    Args:\n",
    "        a: first int\n",
    "        b: second int\n",
    "    \"\"\"\n",
    "    return a / b\n",
    "\n",
    "tools = [add, multiply, divide]\n"
   ]
  },
  {
   "cell_type": "code",
   "execution_count": 31,
   "metadata": {},
   "outputs": [],
   "source": [
    "from typing import Type\n",
    "\n",
    "from langchain_core.tools import BaseTool\n",
    "from pydantic import BaseModel, Field\n",
    "\n",
    "\n",
    "class CalculatorInput(BaseModel):\n",
    "    a: int = Field(description=\"first number\")\n",
    "    b: int = Field(description=\"second number\")\n",
    "    operation: str = Field(description=\"add, multiply or divide operation to perform\")\n",
    "\n",
    "\n",
    "# Note: It's important that every field has type hints. BaseTool is a\n",
    "# Pydantic class and not having type hints can lead to unexpected behavior.\n",
    "class CustomCalculatorTool(BaseTool):\n",
    "    name: str = \"Calculator\"\n",
    "    description: str = \"useful for when you need to answer questions about math\"\n",
    "    args_schema: Type[BaseModel] = CalculatorInput\n",
    "    return_direct: bool = True\n",
    "\n",
    "    def _run(\n",
    "        self, a: int, b: int, operation: str) -> str:\n",
    "        \"\"\"Use the tool.\"\"\"\n",
    "        operation = operation.lower()\n",
    "        if operation == \"add\":\n",
    "            return a + b\n",
    "        elif operation == \"multiply\":\n",
    "            return a * b\n",
    "        elif operation == \"divide\":\n",
    "            return a / b\n",
    "        else:\n",
    "            raise ValueError(\"Invalid operation\")\n",
    "\n",
    "calculator = CustomCalculatorTool()\n",
    "tools = [calculator]"
   ]
  },
  {
   "cell_type": "code",
   "execution_count": 32,
   "metadata": {},
   "outputs": [],
   "source": [
    "class CalculatorAgent:\n",
    "    def __init__(self):\n",
    "        self.llm = ChatOpenAI(model=\"gpt-3.5-turbo-0125\")\n",
    "        self.llm_with_tools = self.llm.bind_tools(tools)\n",
    "        self.sys_msg = SystemMessage(content=\"You are a helpful assistant tasked with performing arithmetic on a set of inputs.\")\n",
    "        self.graph = self.build_graph()\n",
    "    \n",
    "    def assistant(self, state: MessagesState):\n",
    "        return {\"messages\": [self.llm_with_tools.invoke([self.sys_msg] + state[\"messages\"])]}\n",
    "\n",
    "    def build_graph(self):\n",
    "        # Build graph\n",
    "        builder = StateGraph(MessagesState)\n",
    "        builder.add_node(\"assistant\", self.assistant)\n",
    "        builder.add_node(\"tools\", ToolNode(tools))\n",
    "        builder.add_edge(START, \"assistant\")\n",
    "        builder.add_conditional_edges(\n",
    "            \"assistant\",\n",
    "            # If the latest message (result) from assistant is a tool call -> tools_condition routes to tools\n",
    "            # If the latest message (result) from assistant is a not a tool call -> tools_condition routes to END\n",
    "            tools_condition,\n",
    "        )\n",
    "        builder.add_edge(\"tools\", \"assistant\")\n",
    "        return builder.compile()\n",
    "    \n",
    "    def handle_query(self, input: str):\n",
    "        messages = [HumanMessage(content=input)]\n",
    "        messages = self.graph.invoke({\"messages\": messages})\n",
    "        for m in messages['messages']:\n",
    "            m.pretty_print()\n",
    "        return messages['messages'][-1].content\n"
   ]
  },
  {
   "cell_type": "code",
   "execution_count": null,
   "metadata": {},
   "outputs": [],
   "source": [
    "CalculatorAgent().handle_query(\"Add 3 and 4. Multiply the output by 2. Divide the output by 5\")"
   ]
  },
  {
   "cell_type": "code",
   "execution_count": null,
   "metadata": {},
   "outputs": [],
   "source": [
    "class ToolDeployment:\n",
    "    def __init__(self, tool_name):\n",
    "        self.tool_name = tool_name\n",
    "\n",
    "    def execute(self, input_data: str) -> str:\n",
    "        # Simulate tool processing\n",
    "        return f\"Tool {self.tool_name} processed: {input_data}\""
   ]
  },
  {
   "cell_type": "code",
   "execution_count": 1,
   "metadata": {},
   "outputs": [
    {
     "name": "stderr",
     "output_type": "stream",
     "text": [
      "2025-02-07 09:55:43,211\tINFO worker.py:1654 -- Connecting to existing Ray cluster at address: 127.0.0.1:6379...\n",
      "2025-02-07 09:55:43,282\tINFO worker.py:1832 -- Connected to Ray cluster. View the dashboard at \u001b[1m\u001b[32mhttp://127.0.0.1:8265 \u001b[39m\u001b[22m\n"
     ]
    },
    {
     "data": {
      "application/vnd.jupyter.widget-view+json": {
       "model_id": "0c597007091945a5a3262990524d9541",
       "version_major": 2,
       "version_minor": 0
      },
      "text/html": [
       "<div class=\"lm-Widget p-Widget lm-Panel p-Panel jp-Cell-outputWrapper\">\n",
       "    <div style=\"margin-left: 50px;display: flex;flex-direction: row;align-items: center\">\n",
       "        <div class=\"jp-RenderedHTMLCommon\" style=\"display: flex; flex-direction: row;\">\n",
       "  <svg viewBox=\"0 0 567 224\" fill=\"none\" xmlns=\"http://www.w3.org/2000/svg\" style=\"height: 3em;\">\n",
       "    <g clip-path=\"url(#clip0_4338_178347)\">\n",
       "        <path d=\"M341.29 165.561H355.29L330.13 129.051C345.63 123.991 354.21 112.051 354.21 94.2307C354.21 71.3707 338.72 58.1807 311.88 58.1807H271V165.561H283.27V131.661H311.8C314.25 131.661 316.71 131.501 319.01 131.351L341.25 165.561H341.29ZM283.29 119.851V70.0007H311.82C331.3 70.0007 342.34 78.2907 342.34 94.5507C342.34 111.271 331.34 119.861 311.82 119.861L283.29 119.851ZM451.4 138.411L463.4 165.561H476.74L428.74 58.1807H416L367.83 165.561H380.83L392.83 138.411H451.4ZM446.19 126.601H398L422 72.1407L446.24 126.601H446.19ZM526.11 128.741L566.91 58.1807H554.35L519.99 114.181L485.17 58.1807H472.44L514.01 129.181V165.541H526.13V128.741H526.11Z\" fill=\"var(--jp-ui-font-color0)\"/>\n",
       "        <path d=\"M82.35 104.44C84.0187 97.8827 87.8248 92.0678 93.1671 87.9146C98.5094 83.7614 105.083 81.5067 111.85 81.5067C118.617 81.5067 125.191 83.7614 130.533 87.9146C135.875 92.0678 139.681 97.8827 141.35 104.44H163.75C164.476 101.562 165.622 98.8057 167.15 96.2605L127.45 56.5605C121.071 60.3522 113.526 61.6823 106.235 60.3005C98.9443 58.9187 92.4094 54.9203 87.8602 49.0574C83.3109 43.1946 81.0609 35.8714 81.5332 28.4656C82.0056 21.0599 85.1679 14.0819 90.4252 8.8446C95.6824 3.60726 102.672 0.471508 110.08 0.0272655C117.487 -0.416977 124.802 1.86091 130.647 6.4324C136.493 11.0039 140.467 17.5539 141.821 24.8501C143.175 32.1463 141.816 39.6859 138 46.0505L177.69 85.7505C182.31 82.9877 187.58 81.4995 192.962 81.4375C198.345 81.3755 203.648 82.742 208.33 85.3976C213.012 88.0532 216.907 91.9029 219.616 96.5544C222.326 101.206 223.753 106.492 223.753 111.875C223.753 117.258 222.326 122.545 219.616 127.197C216.907 131.848 213.012 135.698 208.33 138.353C203.648 141.009 198.345 142.375 192.962 142.313C187.58 142.251 182.31 140.763 177.69 138L138 177.7C141.808 184.071 143.155 191.614 141.79 198.91C140.424 206.205 136.44 212.75 130.585 217.313C124.731 221.875 117.412 224.141 110.004 223.683C102.596 223.226 95.6103 220.077 90.3621 214.828C85.1139 209.58 81.9647 202.595 81.5072 195.187C81.0497 187.779 83.3154 180.459 87.878 174.605C92.4405 168.751 98.9853 164.766 106.281 163.401C113.576 162.035 121.119 163.383 127.49 167.19L167.19 127.49C165.664 124.941 164.518 122.182 163.79 119.3H141.39C139.721 125.858 135.915 131.673 130.573 135.826C125.231 139.98 118.657 142.234 111.89 142.234C105.123 142.234 98.5494 139.98 93.2071 135.826C87.8648 131.673 84.0587 125.858 82.39 119.3H60C58.1878 126.495 53.8086 132.78 47.6863 136.971C41.5641 141.163 34.1211 142.972 26.7579 142.059C19.3947 141.146 12.6191 137.574 7.70605 132.014C2.79302 126.454 0.0813599 119.29 0.0813599 111.87C0.0813599 104.451 2.79302 97.2871 7.70605 91.7272C12.6191 86.1673 19.3947 82.5947 26.7579 81.6817C34.1211 80.7686 41.5641 82.5781 47.6863 86.7696C53.8086 90.9611 58.1878 97.2456 60 104.44H82.35ZM100.86 204.32C103.407 206.868 106.759 208.453 110.345 208.806C113.93 209.159 117.527 208.258 120.522 206.256C123.517 204.254 125.725 201.276 126.771 197.828C127.816 194.38 127.633 190.677 126.253 187.349C124.874 184.021 122.383 181.274 119.205 179.577C116.027 177.88 112.359 177.337 108.826 178.042C105.293 178.746 102.113 180.654 99.8291 183.44C97.5451 186.226 96.2979 189.718 96.3 193.32C96.2985 195.364 96.7006 197.388 97.4831 199.275C98.2656 201.163 99.4132 202.877 100.86 204.32ZM204.32 122.88C206.868 120.333 208.453 116.981 208.806 113.396C209.159 109.811 208.258 106.214 206.256 103.219C204.254 100.223 201.275 98.0151 197.827 96.97C194.38 95.9249 190.676 96.1077 187.348 97.4873C184.02 98.8669 181.274 101.358 179.577 104.536C177.879 107.714 177.337 111.382 178.041 114.915C178.746 118.448 180.653 121.627 183.439 123.911C186.226 126.195 189.717 127.443 193.32 127.44C195.364 127.443 197.388 127.042 199.275 126.259C201.163 125.476 202.878 124.328 204.32 122.88ZM122.88 19.4205C120.333 16.8729 116.981 15.2876 113.395 14.9347C109.81 14.5817 106.213 15.483 103.218 17.4849C100.223 19.4868 98.0146 22.4654 96.9696 25.9131C95.9245 29.3608 96.1073 33.0642 97.4869 36.3922C98.8665 39.7202 101.358 42.4668 104.535 44.1639C107.713 45.861 111.381 46.4036 114.914 45.6992C118.447 44.9949 121.627 43.0871 123.911 40.301C126.195 37.515 127.442 34.0231 127.44 30.4205C127.44 28.3772 127.038 26.3539 126.255 24.4664C125.473 22.5788 124.326 20.8642 122.88 19.4205ZM19.42 100.86C16.8725 103.408 15.2872 106.76 14.9342 110.345C14.5813 113.93 15.4826 117.527 17.4844 120.522C19.4863 123.518 22.4649 125.726 25.9127 126.771C29.3604 127.816 33.0638 127.633 36.3918 126.254C39.7198 124.874 42.4664 122.383 44.1635 119.205C45.8606 116.027 46.4032 112.359 45.6988 108.826C44.9944 105.293 43.0866 102.114 40.3006 99.8296C37.5145 97.5455 34.0227 96.2983 30.42 96.3005C26.2938 96.3018 22.337 97.9421 19.42 100.86ZM100.86 100.86C98.3125 103.408 96.7272 106.76 96.3742 110.345C96.0213 113.93 96.9226 117.527 98.9244 120.522C100.926 123.518 103.905 125.726 107.353 126.771C110.8 127.816 114.504 127.633 117.832 126.254C121.16 124.874 123.906 122.383 125.604 119.205C127.301 116.027 127.843 112.359 127.139 108.826C126.434 105.293 124.527 102.114 121.741 99.8296C118.955 97.5455 115.463 96.2983 111.86 96.3005C109.817 96.299 107.793 96.701 105.905 97.4835C104.018 98.2661 102.303 99.4136 100.86 100.86Z\" fill=\"#00AEEF\"/>\n",
       "    </g>\n",
       "    <defs>\n",
       "        <clipPath id=\"clip0_4338_178347\">\n",
       "            <rect width=\"566.93\" height=\"223.75\" fill=\"white\"/>\n",
       "        </clipPath>\n",
       "    </defs>\n",
       "  </svg>\n",
       "</div>\n",
       "\n",
       "        <table class=\"jp-RenderedHTMLCommon\" style=\"border-collapse: collapse;color: var(--jp-ui-font-color1);font-size: var(--jp-ui-font-size1);\">\n",
       "    <tr>\n",
       "        <td style=\"text-align: left\"><b>Python version:</b></td>\n",
       "        <td style=\"text-align: left\"><b>3.11.11</b></td>\n",
       "    </tr>\n",
       "    <tr>\n",
       "        <td style=\"text-align: left\"><b>Ray version:</b></td>\n",
       "        <td style=\"text-align: left\"><b>2.41.0</b></td>\n",
       "    </tr>\n",
       "    <tr>\n",
       "    <td style=\"text-align: left\"><b>Dashboard:</b></td>\n",
       "    <td style=\"text-align: left\"><b><a href=\"http://127.0.0.1:8265\" target=\"_blank\">http://127.0.0.1:8265</a></b></td>\n",
       "</tr>\n",
       "\n",
       "</table>\n",
       "\n",
       "    </div>\n",
       "</div>\n"
      ],
      "text/plain": [
       "RayContext(dashboard_url='127.0.0.1:8265', python_version='3.11.11', ray_version='2.41.0', ray_commit='021baf7dd07db54c2dc23a7490f0604673f8d0d6')"
      ]
     },
     "execution_count": 1,
     "metadata": {},
     "output_type": "execute_result"
    },
    {
     "name": "stdout",
     "output_type": "stream",
     "text": [
      "\u001b[36m(ServeReplica:agent:CalculatorAgent pid=2531)\u001b[0m ================================ Human Message =================================\n",
      "\u001b[36m(ServeReplica:agent:CalculatorAgent pid=2531)\u001b[0m \n",
      "\u001b[36m(ServeReplica:agent:CalculatorAgent pid=2531)\u001b[0m Search for information about Ray Serve.\n",
      "\u001b[36m(ServeReplica:agent:CalculatorAgent pid=2531)\u001b[0m ================================== Ai Message ==================================\n",
      "\u001b[36m(ServeReplica:agent:CalculatorAgent pid=2531)\u001b[0m \n",
      "\u001b[36m(ServeReplica:agent:CalculatorAgent pid=2531)\u001b[0m I'm unable to browse the internet. If you have any specific questions about Ray Serve or need information on how to use it, feel free to ask!\n"
     ]
    },
    {
     "name": "stderr",
     "output_type": "stream",
     "text": [
      "\u001b[36m(ServeReplica:agent:CalculatorAgent pid=2531)\u001b[0m INFO 2025-02-07 09:55:52,142 agent_CalculatorAgent rtl87u2f 25da8ca5-cc67-49a9-a423-527feb08a6cd -- POST /agent 200 1449.3ms\n",
      "\u001b[36m(ServeReplica:calculator_tool:CustomCalculatorTool pid=2524)\u001b[0m /Users/liping/anaconda3/envs/aiml-py311/lib/python3.11/site-packages/ray/serve/_private/replica.py:1200: UserWarning: Calling sync method '_run' directly on the asyncio loop. In a future version, sync methods will be run in a threadpool by default. Ensure your sync methods are thread safe or keep the existing behavior by making them `async def`. Opt into the new behavior by setting RAY_SERVE_RUN_SYNC_IN_THREADPOOL=1.\n",
      "\u001b[36m(ServeReplica:calculator_tool:CustomCalculatorTool pid=2524)\u001b[0m   warnings.warn(\n",
      "\u001b[36m(ServeReplica:calculator_tool:CustomCalculatorTool pid=2524)\u001b[0m INFO 2025-02-07 09:56:47,931 calculator_tool_CustomCalculatorTool yodoqt8c f550697a-7f5a-420e-9797-2e2e0da1e199 -- CALL /agent OK 14.5ms\n",
      "\u001b[36m(ServeReplica:calculator_tool:CustomCalculatorTool pid=2524)\u001b[0m INFO 2025-02-07 09:56:47,958 calculator_tool_CustomCalculatorTool yodoqt8c f550697a-7f5a-420e-9797-2e2e0da1e199 -- CALL /agent OK 37.8ms\n",
      "\u001b[36m(ServeReplica:calculator_tool:CustomCalculatorTool pid=2524)\u001b[0m INFO 2025-02-07 09:56:47,959 calculator_tool_CustomCalculatorTool yodoqt8c f550697a-7f5a-420e-9797-2e2e0da1e199 -- CALL /agent OK 37.6ms\n"
     ]
    },
    {
     "name": "stdout",
     "output_type": "stream",
     "text": [
      "\u001b[36m(ServeReplica:agent:CalculatorAgent pid=2531)\u001b[0m ================================ Human Message =================================\n",
      "\u001b[36m(ServeReplica:agent:CalculatorAgent pid=2531)\u001b[0m \n",
      "\u001b[36m(ServeReplica:agent:CalculatorAgent pid=2531)\u001b[0m Add 3 and 4. Multiply the output by 2. Divide the output by 5\n",
      "\u001b[36m(ServeReplica:agent:CalculatorAgent pid=2531)\u001b[0m ================================== Ai Message ==================================\n",
      "\u001b[36m(ServeReplica:agent:CalculatorAgent pid=2531)\u001b[0m Tool Calls:\n",
      "\u001b[36m(ServeReplica:agent:CalculatorAgent pid=2531)\u001b[0m   calculator_tool (call_qwztuVd23FKoX29ef2TzMlVE)\n",
      "\u001b[36m(ServeReplica:agent:CalculatorAgent pid=2531)\u001b[0m  Call ID: call_qwztuVd23FKoX29ef2TzMlVE\n",
      "\u001b[36m(ServeReplica:agent:CalculatorAgent pid=2531)\u001b[0m   Args:\n",
      "\u001b[36m(ServeReplica:agent:CalculatorAgent pid=2531)\u001b[0m     a: 3\n",
      "\u001b[36m(ServeReplica:agent:CalculatorAgent pid=2531)\u001b[0m     b: 4\n",
      "\u001b[36m(ServeReplica:agent:CalculatorAgent pid=2531)\u001b[0m     operation: add\n",
      "\u001b[36m(ServeReplica:agent:CalculatorAgent pid=2531)\u001b[0m   calculator_tool (call_o8Iankm9aSPGgBjgTIW8dGCD)\n",
      "\u001b[36m(ServeReplica:agent:CalculatorAgent pid=2531)\u001b[0m  Call ID: call_o8Iankm9aSPGgBjgTIW8dGCD\n",
      "\u001b[36m(ServeReplica:agent:CalculatorAgent pid=2531)\u001b[0m   Args:\n",
      "\u001b[36m(ServeReplica:agent:CalculatorAgent pid=2531)\u001b[0m     a: 7\n",
      "\u001b[36m(ServeReplica:agent:CalculatorAgent pid=2531)\u001b[0m     b: 2\n",
      "\u001b[36m(ServeReplica:agent:CalculatorAgent pid=2531)\u001b[0m     operation: multiply\n",
      "\u001b[36m(ServeReplica:agent:CalculatorAgent pid=2531)\u001b[0m   calculator_tool (call_zmB1V1hu5hSWqhm0bZ71fXc9)\n",
      "\u001b[36m(ServeReplica:agent:CalculatorAgent pid=2531)\u001b[0m  Call ID: call_zmB1V1hu5hSWqhm0bZ71fXc9\n",
      "\u001b[36m(ServeReplica:agent:CalculatorAgent pid=2531)\u001b[0m   Args:\n",
      "\u001b[36m(ServeReplica:agent:CalculatorAgent pid=2531)\u001b[0m     a: 14\n",
      "\u001b[36m(ServeReplica:agent:CalculatorAgent pid=2531)\u001b[0m     b: 5\n",
      "\u001b[36m(ServeReplica:agent:CalculatorAgent pid=2531)\u001b[0m     operation: divide\n",
      "\u001b[36m(ServeReplica:agent:CalculatorAgent pid=2531)\u001b[0m ================================= Tool Message =================================\n",
      "\u001b[36m(ServeReplica:agent:CalculatorAgent pid=2531)\u001b[0m Name: calculator_tool\n",
      "\u001b[36m(ServeReplica:agent:CalculatorAgent pid=2531)\u001b[0m \n",
      "\u001b[36m(ServeReplica:agent:CalculatorAgent pid=2531)\u001b[0m <ray.serve.handle.DeploymentResponse object at 0x153c8cdd0>\n",
      "\u001b[36m(ServeReplica:agent:CalculatorAgent pid=2531)\u001b[0m ================================= Tool Message =================================\n",
      "\u001b[36m(ServeReplica:agent:CalculatorAgent pid=2531)\u001b[0m Name: calculator_tool\n",
      "\u001b[36m(ServeReplica:agent:CalculatorAgent pid=2531)\u001b[0m \n",
      "\u001b[36m(ServeReplica:agent:CalculatorAgent pid=2531)\u001b[0m <ray.serve.handle.DeploymentResponse object at 0x155ab8550>\n",
      "\u001b[36m(ServeReplica:agent:CalculatorAgent pid=2531)\u001b[0m ================================= Tool Message =================================\n",
      "\u001b[36m(ServeReplica:agent:CalculatorAgent pid=2531)\u001b[0m Name: calculator_tool\n",
      "\u001b[36m(ServeReplica:agent:CalculatorAgent pid=2531)\u001b[0m \n",
      "\u001b[36m(ServeReplica:agent:CalculatorAgent pid=2531)\u001b[0m <ray.serve.handle.DeploymentResponse object at 0x155b25150>\n",
      "\u001b[36m(ServeReplica:agent:CalculatorAgent pid=2531)\u001b[0m ================================== Ai Message ==================================\n",
      "\u001b[36m(ServeReplica:agent:CalculatorAgent pid=2531)\u001b[0m \n",
      "\u001b[36m(ServeReplica:agent:CalculatorAgent pid=2531)\u001b[0m The result of adding 3 and 4 is 7.  \n",
      "\u001b[36m(ServeReplica:agent:CalculatorAgent pid=2531)\u001b[0m The result of multiplying 7 by 2 is 14.  \n",
      "\u001b[36m(ServeReplica:agent:CalculatorAgent pid=2531)\u001b[0m The result of dividing 14 by 5 is 2.8.\n"
     ]
    },
    {
     "name": "stderr",
     "output_type": "stream",
     "text": [
      "\u001b[36m(ServeReplica:agent:CalculatorAgent pid=2531)\u001b[0m INFO 2025-02-07 09:56:48,892 agent_CalculatorAgent rtl87u2f f550697a-7f5a-420e-9797-2e2e0da1e199 -- POST /agent 200 2249.0ms\n"
     ]
    }
   ],
   "source": [
    "import os\n",
    "\n",
    "import ray\n",
    "from ray import serve\n",
    "from ray.serve.handle import DeploymentHandle\n",
    "from starlette.requests import Request\n",
    "\n",
    "from langchain_openai import ChatOpenAI\n",
    "from langchain_core.messages import HumanMessage,SystemMessage\n",
    "from langgraph.graph import MessagesState, StateGraph, START, END\n",
    "from langgraph.prebuilt import ToolNode, tools_condition\n",
    "\n",
    "ray.init()"
   ]
  },
  {
   "cell_type": "code",
   "execution_count": 2,
   "metadata": {},
   "outputs": [
    {
     "name": "stderr",
     "output_type": "stream",
     "text": [
      "INFO 2025-02-07 09:55:43,359 serve 2601 -- Connecting to existing Serve app in namespace \"serve\". New http options will not be applied.\n",
      "WARNING 2025-02-07 09:55:43,360 serve 2601 -- The new client HTTP config differs from the existing one in the following fields: ['host']. The new HTTP config is ignored.\n",
      "INFO 2025-02-07 09:55:45,490 serve 2601 -- Application 'calculator_tool' is ready at http://0.0.0.0:8000/calculator_tool.\n",
      "INFO 2025-02-07 09:55:45,491 serve 2601 -- Deployed app 'calculator_tool' successfully.\n"
     ]
    },
    {
     "name": "stderr",
     "output_type": "stream",
     "text": [
      "\u001b[36m(ServeController pid=2526)\u001b[0m INFO 2025-02-07 09:55:43,471 controller 2526 -- Deploying new version of Deployment(name='CustomCalculatorTool', app='calculator_tool') (initial target replicas: 1).\n",
      "\u001b[36m(ServeController pid=2526)\u001b[0m INFO 2025-02-07 09:55:43,574 controller 2526 -- Adding 1 replica to Deployment(name='CustomCalculatorTool', app='calculator_tool').\n",
      "\u001b[36m(ProxyActor pid=2529)\u001b[0m INFO 2025-02-07 09:55:43,475 proxy 127.0.0.1 -- Got updated endpoints: {Deployment(name='CustomCalculatorTool', app='calculator_tool'): EndpointInfo(route='/calculator_tool', app_is_cross_language=False)}.\n",
      "\u001b[36m(ServeController pid=2526)\u001b[0m INFO 2025-02-07 09:55:47,450 controller 2526 -- Deploying new version of Deployment(name='CalculatorAgent', app='agent') (initial target replicas: 1).\n",
      "\u001b[36m(ProxyActor pid=2529)\u001b[0m INFO 2025-02-07 09:55:47,453 proxy 127.0.0.1 -- Got updated endpoints: {Deployment(name='CustomCalculatorTool', app='calculator_tool'): EndpointInfo(route='/calculator_tool', app_is_cross_language=False), Deployment(name='CalculatorAgent', app='agent'): EndpointInfo(route='/agent', app_is_cross_language=False)}.\n",
      "\u001b[36m(ServeController pid=2526)\u001b[0m INFO 2025-02-07 09:55:47,557 controller 2526 -- Adding 1 replica to Deployment(name='CalculatorAgent', app='agent').\n"
     ]
    }
   ],
   "source": [
    "from typing import Type\n",
    "\n",
    "from langchain_core.tools import BaseTool\n",
    "from pydantic import BaseModel, Field\n",
    "\n",
    "\n",
    "class CalculatorInput(BaseModel):\n",
    "    a: int = Field(description=\"first number\")\n",
    "    b: int = Field(description=\"second number\")\n",
    "    operation: str = Field(description=\"add, multiply or divide operation to perform\")\n",
    "\n",
    "\n",
    "# Note: It's important that every field has type hints. BaseTool is a\n",
    "# Pydantic class and not having type hints can lead to unexpected behavior.\n",
    "@serve.deployment\n",
    "class CustomCalculatorTool(BaseTool):\n",
    "    name: str = \"Calculator\"\n",
    "    description: str = \"useful for when you need to answer questions about math\"\n",
    "    args_schema: Type[BaseModel] = CalculatorInput\n",
    "    return_direct: bool = True\n",
    "\n",
    "    def _run(\n",
    "        self, a: int, b: int, operation: str) -> str:\n",
    "        \"\"\"Use the tool.\"\"\"\n",
    "        operation = operation.lower()\n",
    "        if operation == \"add\":\n",
    "            return a + b\n",
    "        elif operation == \"multiply\":\n",
    "            return a * b\n",
    "        elif operation == \"divide\":\n",
    "            return a / b\n",
    "        else:\n",
    "            raise ValueError(\"Invalid operation\")\n",
    "\n",
    "\n",
    "calculator_app = CustomCalculatorTool.bind(tool_name=\"CalculatorTool\")\n",
    "calculator_handle = serve.run(calculator_app, name=\"calculator_tool\", route_prefix=\"/calculator_tool\")\n",
    "\n",
    "# calculator = CustomCalculatorTool()\n",
    "# tools = [calculator]"
   ]
  },
  {
   "cell_type": "code",
   "execution_count": 3,
   "metadata": {},
   "outputs": [],
   "source": [
    "@serve.deployment\n",
    "class CalculatorAgent():\n",
    "    def __init__(self, tool_handle):\n",
    "        self.tool_handle = tool_handle\n",
    "        self.tools = [self.calculator_tool]\n",
    "\n",
    "        self.llm = ChatOpenAI(model=\"gpt-3.5-turbo-0125\")\n",
    "        self.llm_with_tools = self.llm.bind_tools(self.tools)\n",
    "\n",
    "        self.sys_msg = SystemMessage(content=\"You are a helpful assistant tasked with performing arithmetic on a set of inputs.\")\n",
    "        self.graph = self.build_graph()\n",
    "    \n",
    "    def calculator_tool(self, a: int, b: int, operation: str):\n",
    "        \"\"\"\n",
    "        Perform a calculation using the specified operation.\n",
    "\n",
    "        Args:\n",
    "            a (int): The first operand.\n",
    "            b (int): The second operand.\n",
    "            operation (str): The operation to perform. Supported operations are 'add', 'subtract', 'multiply', and 'divide'.\n",
    "\n",
    "        Returns:\n",
    "            Future: A future object representing the result of the calculation.\n",
    "        \"\"\"\n",
    "        return self.tool_handle._run.remote(a, b, operation)\n",
    "\n",
    "    def assistant(self, state: MessagesState):\n",
    "        return {\"messages\": [self.llm_with_tools.invoke([self.sys_msg] + state[\"messages\"])]}\n",
    "\n",
    "    def build_graph(self):\n",
    "        # Build graph\n",
    "        builder = StateGraph(MessagesState)\n",
    "        builder.add_node(\"assistant\", self.assistant)\n",
    "        builder.add_node(\"tools\", ToolNode(self.tools))\n",
    "        builder.add_edge(START, \"assistant\")\n",
    "        builder.add_conditional_edges(\n",
    "            \"assistant\",\n",
    "            # If the latest message (result) from assistant is a tool call -> tools_condition routes to tools\n",
    "            # If the latest message (result) from assistant is a not a tool call -> tools_condition routes to END\n",
    "            tools_condition,\n",
    "        )\n",
    "        builder.add_edge(\"tools\", \"assistant\")\n",
    "        return builder.compile()\n",
    "    \n",
    "    def handle_query(self, input: str):\n",
    "        messages = [HumanMessage(content=input)]\n",
    "        messages = self.graph.invoke({\"messages\": messages})\n",
    "        for m in messages['messages']:\n",
    "            m.pretty_print()\n",
    "        return messages['messages'][-1].content\n",
    "    \n",
    "    async def __call__(self, request: Request):\n",
    "        data = await request.json()\n",
    "        return self.handle_query(data['input_data'])\n"
   ]
  },
  {
   "cell_type": "code",
   "execution_count": 4,
   "metadata": {},
   "outputs": [
    {
     "name": "stderr",
     "output_type": "stream",
     "text": [
      "INFO 2025-02-07 09:55:47,356 serve 2601 -- Connecting to existing Serve app in namespace \"serve\". New http options will not be applied.\n",
      "WARNING 2025-02-07 09:55:47,357 serve 2601 -- The new client HTTP config differs from the existing one in the following fields: ['host']. The new HTTP config is ignored.\n",
      "INFO 2025-02-07 09:55:50,516 serve 2601 -- Application 'agent' is ready at http://0.0.0.0:8000/agent.\n",
      "INFO 2025-02-07 09:55:50,517 serve 2601 -- Deployed app 'agent' successfully.\n"
     ]
    },
    {
     "data": {
      "text/plain": [
       "DeploymentHandle(deployment='CalculatorAgent')"
      ]
     },
     "execution_count": 4,
     "metadata": {},
     "output_type": "execute_result"
    }
   ],
   "source": [
    "# Deploy the agent\n",
    "agent_deployment = CalculatorAgent.bind(tool_handle=calculator_handle)\n",
    "serve.run(agent_deployment, name=\"agent\", route_prefix=\"/agent\")"
   ]
  },
  {
   "cell_type": "code",
   "execution_count": 6,
   "metadata": {},
   "outputs": [
    {
     "name": "stdout",
     "output_type": "stream",
     "text": [
      "Agent Response: The result of adding 3 and 4 is 7.  \n",
      "The result of multiplying 7 by 2 is 14.  \n",
      "The result of dividing 14 by 5 is 2.8.\n"
     ]
    }
   ],
   "source": [
    "import requests\n",
    "\n",
    "# Define the base URL for Ray Serve\n",
    "base_url = \"http://localhost:8000\"\n",
    "\n",
    "# Test the agent deployment\n",
    "response = requests.post(\n",
    "    f\"{base_url}/agent\",\n",
    "    json={\"input_data\": \"Add 3 and 4. Multiply the output by 2. Divide the output by 5\"}\n",
    ")\n",
    "print(\"Agent Response:\", response.text)"
   ]
  },
  {
   "cell_type": "code",
   "execution_count": 3,
   "metadata": {},
   "outputs": [],
   "source": [
    "@serve.deployment\n",
    "class ToolDeployment:\n",
    "    def __init__(self, tool_name):\n",
    "        self.tool_name = tool_name\n",
    "\n",
    "    def execute(self, input_data: str) -> str:\n",
    "        # Simulate tool processing\n",
    "        return f\"Tool {self.tool_name} processed: {input_data}\""
   ]
  },
  {
   "cell_type": "code",
   "execution_count": null,
   "metadata": {},
   "outputs": [],
   "source": [
    "tool_deployment = ToolDeployment.bind(tool_name=\"SearchTool\")\n",
    "tool_handle = serve.run(tool_deployment, name=\"search_tool\", route_prefix=\"/search_tool\")"
   ]
  },
  {
   "cell_type": "code",
   "execution_count": null,
   "metadata": {},
   "outputs": [],
   "source": [
    "# Define the agent deployment\n",
    "@serve.deployment\n",
    "class AgentDeployment:\n",
    "    def __init__(self, tool_handle):\n",
    "        \n",
    "        self.tool_handle = tool_handle\n",
    "        self.llm = ChatOpenAI(model=\"gpt-3.5-turbo-0125\")\n",
    "        self.llm_with_tools = self.llm.bind_tools([self.search_tool])\n",
    "\n",
    "        \n",
    "        self.graph = self.build_graph()\n",
    "\n",
    "    def search_tool(self, messages: list):\n",
    "        \"Search for information about Ray Serve.\"\n",
    "        return self.tool_handle.execute.remote(messages)\n",
    "    \n",
    "    def assistant(self, state: MessagesState):\n",
    "        return {\"messages\": [self.llm_with_tools.invoke(state[\"messages\"])]}\n",
    "    \n",
    "    def build_graph(self):\n",
    "        # Build graph\n",
    "        builder = StateGraph(MessagesState)\n",
    "        builder.add_node(\"assistant\", self.assistant)\n",
    "        builder.add_node(\"tools\", ToolNode([self.search_tool]))\n",
    "        builder.add_edge(START, \"assistant\")\n",
    "        builder.add_conditional_edges(\n",
    "            \"assistant\",\n",
    "            # If the latest message (result) from assistant is a tool call -> tools_condition routes to tools\n",
    "            # If the latest message (result) from assistant is a not a tool call -> tools_condition routes to END\n",
    "            tools_condition,\n",
    "        )\n",
    "        builder.add_edge(\"tools\", END)\n",
    "        return builder.compile()\n",
    "    \n",
    "    \n",
    "    async def __call__(self, http_request: Request) -> str:\n",
    "        input: dict = await http_request.json()\n",
    "        messages = [HumanMessage(content=input.get('input_data', ''))]\n",
    "        messages = self.graph.invoke({\"messages\": messages})\n",
    "        for m in messages['messages']:\n",
    "            m.pretty_print()\n",
    "        return f\"Agent processed: {messages['messages']}\"\n",
    "        "
   ]
  },
  {
   "cell_type": "code",
   "execution_count": null,
   "metadata": {},
   "outputs": [],
   "source": [
    "# Deploy the agent\n",
    "agent_deployment = AgentDeployment.bind(tool_handle=tool_deployment)\n",
    "serve.run(agent_deployment, name=\"agent\", route_prefix=\"/agent\")"
   ]
  },
  {
   "cell_type": "code",
   "execution_count": null,
   "metadata": {},
   "outputs": [],
   "source": [
    "import requests\n",
    "\n",
    "# Define the base URL for Ray Serve\n",
    "base_url = \"http://localhost:8000\"\n",
    "\n",
    "# Test the agent deployment\n",
    "response = requests.post(\n",
    "    f\"{base_url}/agent\",\n",
    "    json={\"input_data\": \"Add 3 and 4. Multiply the output by 2. Divide the output by 5\"}\n",
    ")\n",
    "print(\"Agent Response:\", response.text)"
   ]
  },
  {
   "cell_type": "code",
   "execution_count": null,
   "metadata": {},
   "outputs": [],
   "source": []
  }
 ],
 "metadata": {
  "kernelspec": {
   "display_name": "aiml-py311",
   "language": "python",
   "name": "python3"
  },
  "language_info": {
   "codemirror_mode": {
    "name": "ipython",
    "version": 3
   },
   "file_extension": ".py",
   "mimetype": "text/x-python",
   "name": "python",
   "nbconvert_exporter": "python",
   "pygments_lexer": "ipython3",
   "version": "3.11.11"
  }
 },
 "nbformat": 4,
 "nbformat_minor": 2
}
